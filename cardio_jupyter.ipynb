{
 "cells": [
  {
   "cell_type": "markdown",
   "id": "2321666a",
   "metadata": {},
   "source": [
    "### Objectiu: Predir si un pacient té una enfermetat cardiovascular en funció de les seves característiques clíniques."
   ]
  },
  {
   "cell_type": "code",
   "execution_count": 14,
   "id": "aa436761",
   "metadata": {},
   "outputs": [
    {
     "name": "stdout",
     "output_type": "stream",
     "text": [
      "                 id           age        gender        height        weight  \\\n",
      "count  70000.000000  70000.000000  70000.000000  70000.000000  70000.000000   \n",
      "mean   49972.419900  19468.865814      1.349571    164.359229     74.205690   \n",
      "std    28851.302323   2467.251667      0.476838      8.210126     14.395757   \n",
      "min        0.000000  10798.000000      1.000000     55.000000     10.000000   \n",
      "25%    25006.750000  17664.000000      1.000000    159.000000     65.000000   \n",
      "50%    50001.500000  19703.000000      1.000000    165.000000     72.000000   \n",
      "75%    74889.250000  21327.000000      2.000000    170.000000     82.000000   \n",
      "max    99999.000000  23713.000000      2.000000    250.000000    200.000000   \n",
      "\n",
      "              ap_hi         ap_lo   cholesterol          gluc         smoke  \\\n",
      "count  70000.000000  70000.000000  70000.000000  70000.000000  70000.000000   \n",
      "mean     128.817286     96.630414      1.366871      1.226457      0.088129   \n",
      "std      154.011419    188.472530      0.680250      0.572270      0.283484   \n",
      "min     -150.000000    -70.000000      1.000000      1.000000      0.000000   \n",
      "25%      120.000000     80.000000      1.000000      1.000000      0.000000   \n",
      "50%      120.000000     80.000000      1.000000      1.000000      0.000000   \n",
      "75%      140.000000     90.000000      2.000000      1.000000      0.000000   \n",
      "max    16020.000000  11000.000000      3.000000      3.000000      1.000000   \n",
      "\n",
      "               alco        active        cardio  \n",
      "count  70000.000000  70000.000000  70000.000000  \n",
      "mean       0.053771      0.803729      0.499700  \n",
      "std        0.225568      0.397179      0.500003  \n",
      "min        0.000000      0.000000      0.000000  \n",
      "25%        0.000000      1.000000      0.000000  \n",
      "50%        0.000000      1.000000      0.000000  \n",
      "75%        0.000000      1.000000      1.000000  \n",
      "max        1.000000      1.000000      1.000000  \n"
     ]
    }
   ],
   "source": [
    "import numpy as np\n",
    "import pandas as pd\n",
    "import seaborn as sns\n",
    "import matplotlib.pylab as plt\n",
    "from sklearn.preprocessing import LabelEncoder\n",
    "\n",
    "dataset = pd.read_csv(\".\\\\cardio_train.csv\", sep=\";\")\n",
    "\n",
    "print(dataset.describe())\n",
    "\n",
    "X=dataset.drop('cardio',axis=1)\n",
    "y=dataset['cardio']\n"
   ]
  },
  {
   "cell_type": "markdown",
   "id": "6df3c9de",
   "metadata": {},
   "source": [
    "### Exploratory Data Analysis\n",
    "\n",
    "Explorem la nostra base de dades, entenent quines són les característiques (dades que possiblement afectin al nostre objectiu) i l'objectiu (allò que volem predir). "
   ]
  },
  {
   "cell_type": "markdown",
   "id": "9a2eecce",
   "metadata": {},
   "source": [
    "Variables de la base de dades:\n",
    "\n",
    "0. id --> Índex de les mostres. Numèric quantitatiu continu.\n",
    "1. age --> Edat del pacient (dies). Numèric quantitatiu discret.\n",
    "2. height --> Alçada del pacient (cm). Numèric quantitatiu continu.\n",
    "3. weight --> Pes del pacient (kg). Numèric quantitatiu continu.\n",
    "4. gender --> Gènere del pacient (0, 1). Categòric qualitatiu binària\n",
    "5. ap_hi --> Pressió arterial sistòlica del pacient (mmHg). Numèric quantitatiu discret.\n",
    "6. ap_lo --> Pressió arterial diastòlica del pacient (mmHg). Numèric quantitatiu discret.\n",
    "7. cholesterol --> Nivell de colesterol del pacient (1: normal, 2: per sobre del normal, 3: molt per sobre del normal). Categòric qualitatiu ordinal.\n",
    "8. gluc --> Nivell de glucosa del pacient (1: normal, 2: per sobre del normal, 3: molt per sobre del normal). Categòric qualitatiu ordinal.\n",
    "9. smoke --> Fumar o no (0: no, 1: sí). Categòric qualitatiu binari.\n",
    "10. alco --> Consum d'alcohol (0: no, 1: sí). Categòric qualitatiu binari.\n",
    "11. active --> Activitat física (0: no, 1: sí). Categòric qualitatiu binari.\n",
    "12. cardio --> Presència o absència de malaltia cardiovascular (0: no, 1: sí). Categòric qualitatiu binari.\n",
    "\n",
    "Tenim 12 característiques i 1 target (\"cardio\").\n",
    "\n",
    "Volem predir \"cardio\" (presència o absència de malaltia cardiovascular en un pacient) en funció de totes les altres característiques."
   ]
  },
  {
   "cell_type": "code",
   "execution_count": 18,
   "id": "edd98fe3",
   "metadata": {},
   "outputs": [
    {
     "name": "stdout",
     "output_type": "stream",
     "text": [
      "\n",
      "Mostrem els tipus de variables:\n",
      "\n",
      "id               int64\n",
      "age              int64\n",
      "gender           int64\n",
      "height           int64\n",
      "weight         float64\n",
      "ap_hi            int64\n",
      "ap_lo            int64\n",
      "cholesterol      int64\n",
      "gluc             int64\n",
      "smoke            int64\n",
      "alco             int64\n",
      "active           int64\n",
      "dtype: object\n"
     ]
    }
   ],
   "source": [
    "print(\"\\nMostrem els tipus de variables:\\n\")\n",
    "print(X.dtypes)"
   ]
  },
  {
   "cell_type": "code",
   "execution_count": 22,
   "id": "8c5bb7f3",
   "metadata": {},
   "outputs": [
    {
     "name": "stdout",
     "output_type": "stream",
     "text": [
      "\n",
      "Mostrem els primers valors de les característiques i de l'objectiu:\n",
      "\n",
      "   id    age  gender  height  weight  ap_hi  ap_lo  cholesterol  gluc  smoke  \\\n",
      "0   0  18393       2     168    62.0    110     80            1     1      0   \n",
      "1   1  20228       1     156    85.0    140     90            3     1      0   \n",
      "2   2  18857       1     165    64.0    130     70            3     1      0   \n",
      "3   3  17623       2     169    82.0    150    100            1     1      0   \n",
      "4   4  17474       1     156    56.0    100     60            1     1      0   \n",
      "\n",
      "   alco  active  \n",
      "0     0       1  \n",
      "1     0       1  \n",
      "2     0       0  \n",
      "3     0       1  \n",
      "4     0       0  \n"
     ]
    }
   ],
   "source": [
    "print(\"\\nMostrem els primers valors de les característiques i de l'objectiu:\\n\")\n",
    "print(X.head())"
   ]
  },
  {
   "cell_type": "code",
   "execution_count": 23,
   "id": "fb24993c",
   "metadata": {},
   "outputs": [
    {
     "name": "stdout",
     "output_type": "stream",
     "text": [
      "0    0\n",
      "1    1\n",
      "2    1\n",
      "3    1\n",
      "4    0\n",
      "Name: cardio, dtype: int64\n"
     ]
    }
   ],
   "source": [
    "print(y.head())"
   ]
  },
  {
   "cell_type": "markdown",
   "id": "961e151d",
   "metadata": {},
   "source": [
    "Anem a veure si les nostres dades presenten NaNs:"
   ]
  },
  {
   "cell_type": "code",
   "execution_count": 29,
   "id": "04c9e2af",
   "metadata": {},
   "outputs": [
    {
     "name": "stdout",
     "output_type": "stream",
     "text": [
      "\n",
      "Nombre de NaNs per columna en els features:\n",
      "\n",
      "id             0\n",
      "age            0\n",
      "gender         0\n",
      "height         0\n",
      "weight         0\n",
      "ap_hi          0\n",
      "ap_lo          0\n",
      "cholesterol    0\n",
      "gluc           0\n",
      "smoke          0\n",
      "alco           0\n",
      "active         0\n",
      "dtype: int64\n",
      "\n",
      "Percentatge de NaNs per columna en els features:\n",
      "\n",
      "id             0.0\n",
      "age            0.0\n",
      "gender         0.0\n",
      "height         0.0\n",
      "weight         0.0\n",
      "ap_hi          0.0\n",
      "ap_lo          0.0\n",
      "cholesterol    0.0\n",
      "gluc           0.0\n",
      "smoke          0.0\n",
      "alco           0.0\n",
      "active         0.0\n",
      "dtype: float64\n"
     ]
    }
   ],
   "source": [
    "print(\"\\nNombre de NaNs per columna en els features:\\n\")\n",
    "print(X.isna().sum())\n",
    "print(\"\\nPercentatge de NaNs per columna en els features:\\n\")\n",
    "print(X.isna().mean() * 100)"
   ]
  },
  {
   "cell_type": "code",
   "execution_count": 30,
   "id": "deac85d6",
   "metadata": {},
   "outputs": [
    {
     "name": "stdout",
     "output_type": "stream",
     "text": [
      "\n",
      "Nombre de NaNs per columna en el target:\n",
      "\n",
      "0\n",
      "\n",
      "Percentatge de NaNs per columna en el target:\n",
      "\n",
      "0.0\n"
     ]
    }
   ],
   "source": [
    "print(\"\\nNombre de NaNs per columna en el target:\\n\")\n",
    "print(y.isna().sum())\n",
    "print(\"\\nPercentatge de NaNs per columna en el target:\\n\")\n",
    "print(y.isna().mean() * 100)"
   ]
  },
  {
   "cell_type": "markdown",
   "id": "a9bf09c1",
   "metadata": {},
   "source": [
    "No tenim NaNs (valors buits) ni en el nostre objectiu ni en les característiques."
   ]
  },
  {
   "cell_type": "code",
   "execution_count": null,
   "id": "2a548443",
   "metadata": {},
   "outputs": [],
   "source": []
  }
 ],
 "metadata": {
  "kernelspec": {
   "display_name": "Python 3 (ipykernel)",
   "language": "python",
   "name": "python3"
  },
  "language_info": {
   "codemirror_mode": {
    "name": "ipython",
    "version": 3
   },
   "file_extension": ".py",
   "mimetype": "text/x-python",
   "name": "python",
   "nbconvert_exporter": "python",
   "pygments_lexer": "ipython3",
   "version": "3.11.5"
  }
 },
 "nbformat": 4,
 "nbformat_minor": 5
}
